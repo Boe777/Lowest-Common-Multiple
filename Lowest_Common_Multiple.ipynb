{
 "cells": [
  {
   "cell_type": "markdown",
   "id": "7cd892d7-cca5-4c22-8209-5fbfdb1dd5bf",
   "metadata": {},
   "source": [
    "Smallest Common Multiple (LCM)"
   ]
  },
  {
   "cell_type": "markdown",
   "id": "f48f827b-6b49-4896-b712-f118bd480f35",
   "metadata": {},
   "source": [
    "Problem: Given two positive integers, find their Least Common Multiple (LCM).\n",
    "\n",
    "Example:\n",
    "Input: a = 12, b = 15\n",
    "Output: 60\n",
    "Explanation: The least common multiple of 12 and 15 is 60 because 60 is the smallest value that is a multiple of both 12 and 15."
   ]
  },
  {
   "cell_type": "markdown",
   "id": "fc8c955f-2139-4259-9614-fb8614f34384",
   "metadata": {},
   "source": [
    "Solution 1: Without math lib.\n",
    "The LCM of two numbers is found by dividing the product of these numbers by their GCD. \n",
    "The GCD is found using Euclid's algorithm by repeatedly taking remainders until zero is reached."
   ]
  },
  {
   "cell_type": "code",
   "execution_count": 1,
   "id": "b03c1a72-65bb-4462-8a71-06c754b15c63",
   "metadata": {},
   "outputs": [
    {
     "name": "stdin",
     "output_type": "stream",
     "text": [
      "Enter the first number:  12\n",
      "Enter the second number:  15\n"
     ]
    },
    {
     "name": "stdout",
     "output_type": "stream",
     "text": [
      "The Least Common Multiple of 12 and 15 is 60\n"
     ]
    }
   ],
   "source": [
    "# GCD calculation function\n",
    "def gcd(a, b):\n",
    "    while b != 0:\n",
    "        a, b = b, a % b  # Update a and b\n",
    "    return a\n",
    "\n",
    "# LCM calculation function\n",
    "def lcm(a, b):\n",
    "    \"\"\"\n",
    "    LCM must always be a positive number.\n",
    "    \"\"\"\n",
    "    return abs(a * b) // gcd(a, b)\n",
    "\n",
    "# Get numbers\n",
    "num1 = int(input(\"Enter the first number: \"))\n",
    "num2 = int(input(\"Enter the second number: \"))\n",
    "\n",
    "# Calculate the LCM\n",
    "lcm_result = lcm(num1, num2)\n",
    "\n",
    "# Print the results\n",
    "print(f\"The Least Common Multiple of {num1} and {num2} is {lcm_result}\")\n"
   ]
  },
  {
   "cell_type": "markdown",
   "id": "3ea158e5-5263-4d46-b1e7-d8b26c23479b",
   "metadata": {},
   "source": [
    "Solution 2: With math lib.\n",
    "Used math.gcd() and math.lcm() for calculate GCD and LCM of the two numbers."
   ]
  },
  {
   "cell_type": "code",
   "execution_count": 3,
   "id": "757bf5d5-1bb3-4495-80ed-441afd1aa853",
   "metadata": {},
   "outputs": [
    {
     "name": "stdin",
     "output_type": "stream",
     "text": [
      "Enter the first number:  12\n",
      "Enter the second number:  15\n"
     ]
    },
    {
     "name": "stdout",
     "output_type": "stream",
     "text": [
      "The Least Common Multiple of 12 and 15 is 60\n"
     ]
    }
   ],
   "source": [
    "import math #Python 3.9 or higher for LCM\n",
    "\n",
    "# Get numbers\n",
    "num1 = int(input(\"Enter the first number: \"))\n",
    "num2 = int(input(\"Enter the second number: \"))\n",
    "\n",
    "# Calculate the GCD using math.gcd()\n",
    "gcd_result = math.gcd(num1, num2)\n",
    "\n",
    "# Calculate the LCM using math.lcm()\n",
    "lcm_result = math.lcm(num1, num2)\n",
    "\n",
    "# Print the results\n",
    "print(f\"The Least Common Multiple of {num1} and {num2} is {lcm_result}\")\n"
   ]
  },
  {
   "cell_type": "code",
   "execution_count": null,
   "id": "110a73df-9acf-4e3c-b926-a0d7f4006e67",
   "metadata": {},
   "outputs": [],
   "source": [
    "#Note: If the Python version is not as required, the same LCM function as above(solution 1) should be used."
   ]
  }
 ],
 "metadata": {
  "kernelspec": {
   "display_name": "Python [conda env:base] *",
   "language": "python",
   "name": "conda-base-py"
  },
  "language_info": {
   "codemirror_mode": {
    "name": "ipython",
    "version": 3
   },
   "file_extension": ".py",
   "mimetype": "text/x-python",
   "name": "python",
   "nbconvert_exporter": "python",
   "pygments_lexer": "ipython3",
   "version": "3.12.7"
  }
 },
 "nbformat": 4,
 "nbformat_minor": 5
}
